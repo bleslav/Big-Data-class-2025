{
  "nbformat": 4,
  "nbformat_minor": 0,
  "metadata": {
    "colab": {
      "provenance": [],
      "authorship_tag": "ABX9TyN9Jqy18OhWaB4Gj4VNar3P",
      "include_colab_link": true
    },
    "kernelspec": {
      "name": "python3",
      "display_name": "Python 3"
    },
    "language_info": {
      "name": "python"
    }
  },
  "cells": [
    {
      "cell_type": "markdown",
      "metadata": {
        "id": "view-in-github",
        "colab_type": "text"
      },
      "source": [
        "<a href=\"https://colab.research.google.com/github/bleslav/Big-Data-class-2025/blob/main/Wprowadzenie_do_Pythona_z_rozwi%C4%85zaniami.ipynb\" target=\"_parent\"><img src=\"https://colab.research.google.com/assets/colab-badge.svg\" alt=\"Open In Colab\"/></a>"
      ]
    },
    {
      "cell_type": "markdown",
      "source": [
        "Jupyter Notebooks to interaktywne środowisko pracy umożliwiające tworzenie dokumentów, które integrują kod z opisami, wykresami i innymi elementami multimedialnymi. Google Colab to bazująca na chmurze wersja Jupyter Notebooks, która nie wymaga instalacji żadnego oprogramowania.\n",
        "\n",
        "Kluczowe zalety Google Colab:\n",
        "\n",
        "Kod wykonywany w chmurze, brak potrzeby instalacji\n",
        "\n",
        "Automatyczne zapisywanie pracy w Google Drive\n",
        "\n",
        "Łatwe udostępnianie i współpraca z innymi\n",
        "\n",
        "Darmowy dostęp do procesorów GPU\n",
        "\n",
        "Wiele preinstalowanych bibliotek"
      ],
      "metadata": {
        "id": "S-octt6i1-Cs"
      }
    },
    {
      "cell_type": "code",
      "source": [
        "# To jest pierwszy kod w Google Colab!\n",
        "print(\"Witaj w Google Colab!\")"
      ],
      "metadata": {
        "colab": {
          "base_uri": "https://localhost:8080/"
        },
        "id": "viZAAcse2Qjl",
        "outputId": "7d1be6ac-5b42-4818-db9c-f623b16a0d0d"
      },
      "execution_count": 1,
      "outputs": [
        {
          "output_type": "stream",
          "name": "stdout",
          "text": [
            "Witaj w Google Colab!\n"
          ]
        }
      ]
    },
    {
      "cell_type": "markdown",
      "source": [
        "Zadanie: Utwórz nowy notatnik w Google Colab i dodaj komórkę, która wypisze komunikat \"Hello, World from Colab!\""
      ],
      "metadata": {
        "id": "Ae5r9F7Z2W4W"
      }
    },
    {
      "cell_type": "code",
      "source": [
        "# Ćwiczenie: zmień tekst poniżej\n",
        "print(\"Hello, World from Colab!\")"
      ],
      "metadata": {
        "id": "RAwa4BCY2ZwG"
      },
      "execution_count": null,
      "outputs": []
    },
    {
      "cell_type": "markdown",
      "source": [
        "# Nagłówek w formacie Markdown\n",
        "\n",
        "To jest **pogrubiony tekst** a to jest *kursywa*.\n",
        "\n",
        "Możemy też dodać listy:\n",
        "* Pierwszy element\n",
        "* Drugi element\n",
        "\n",
        "A także wzory matematyczne: $E = mc^2$"
      ],
      "metadata": {
        "id": "_XnlZCEr2f6N"
      }
    },
    {
      "cell_type": "markdown",
      "source": [
        "# 1. Print i podstawowe operacje\n",
        "Wprowadzenie\n",
        "Funkcja print() to jedna z najprostszych, ale najważniejszych funkcji w Pythonie, służąca do wyświetlania informacji użytkownikowi. Jest nieoceniona podczas nauki programowania i debugowania.\n",
        "\n",
        "Python obsługuje standardowe operacje matematyczne:\n",
        "\n",
        "+ (dodawanie), - (odejmowanie)\n",
        "\n",
        "* (mnożenie), / (dzielenie)\n",
        "\n",
        "// (dzielenie całkowitoliczbowe)\n",
        "\n",
        "% (modulo - reszta z dzielenia)\n",
        "\n",
        "** (potęgowanie)"
      ],
      "metadata": {
        "id": "DSQsp8r02jbV"
      }
    },
    {
      "cell_type": "code",
      "source": [
        "# Podstawowe użycie print\n",
        "print(\"Hello, World!\")\n",
        "\n",
        "# Wyświetlanie wielu wartości\n",
        "print(\"Witaj\", \"świecie\", \"Pythona\")\n",
        "\n",
        "# Kontrolowanie końca linii\n",
        "print(\"To jest pierwsza linia\", end=\" >>> \")\n",
        "print(\"a to kontynuacja w tej samej linii\")\n",
        "\n",
        "# Znaki specjalne\n",
        "print(\"Pierwsza linia\\nDruga linia\\nTrzecia linia\")\n",
        "\n",
        "# Podstawowe operacje matematyczne\n",
        "print(\"Dodawanie: 5 + 3 =\", 5 + 3)\n",
        "print(\"Odejmowanie: 5 - 3 =\", 5 - 3)\n",
        "print(\"Mnożenie: 5 * 3 =\", 5 * 3)\n",
        "print(\"Dzielenie: 5 / 3 =\", 5 / 3)\n",
        "print(\"Dzielenie całkowitoliczbowe: 5 // 3 =\", 5 // 3)\n",
        "print(\"Reszta z dzielenia: 5 % 3 =\", 5 % 3)\n",
        "print(\"Potęgowanie: 5 ** 3 =\", 5 ** 3)"
      ],
      "metadata": {
        "id": "1HetYsAa2rMR"
      },
      "execution_count": null,
      "outputs": []
    },
    {
      "cell_type": "markdown",
      "source": [
        "Zadanie: Napisz kod, który obliczy i wyświetli wynik następujących operacji:\n",
        "\n",
        "15 - 4\n",
        "\n",
        "8 * 3\n",
        "\n",
        "20 / 5"
      ],
      "metadata": {
        "id": "csvGEpJl2zPX"
      }
    },
    {
      "cell_type": "code",
      "source": [
        "# Ćwiczenie: uzupełnij poniższy kod\n",
        "print(\"15 - 4 =\", 15 - 4)\n",
        "print(\"8 * 3 =\", 8 * 3)\n",
        "print(\"20 / 5 =\", 20 / 5)"
      ],
      "metadata": {
        "id": "lXYHJFdb24nE"
      },
      "execution_count": null,
      "outputs": []
    },
    {
      "cell_type": "markdown",
      "source": [
        "# 2. Zmienne i typy danych\n",
        "Wprowadzenie\n",
        "Zmienne w Pythonie to nazwane obszary pamięci przechowujące dane. Python jest językiem dynamicznie typowanym, co oznacza, że typ zmiennej jest automatycznie określany na podstawie przypisanej wartości.\n",
        "\n",
        "Podstawowe typy danych w Pythonie to:\n",
        "\n",
        "int (liczby całkowite): np. 5, -3, 0\n",
        "\n",
        "float (liczby zmiennoprzecinkowe): np. 3.14, -0.01\n",
        "\n",
        "str (ciągi znaków): np. \"Hello\", 'Python'\n",
        "\n",
        "bool (wartości logiczne): True, False\n",
        "\n",
        "Złożone typy: list, tuple, set, dict"
      ],
      "metadata": {
        "id": "04nmVC1T27UJ"
      }
    },
    {
      "cell_type": "code",
      "source": [
        "# Przykładowe zmienne\n",
        "wiek = 25           # int\n",
        "wzrost = 1.78       # float\n",
        "imie = \"Anna\"       # str\n",
        "czy_student = True  # bool\n",
        "\n",
        "print(\"Typ zmiennej wiek:\", type(wiek))\n",
        "print(\"Typ zmiennej wzrost:\", type(wzrost))\n",
        "print(\"Typ zmiennej imie:\", type(imie))\n",
        "print(\"Typ zmiennej czy_student:\", type(czy_student))"
      ],
      "metadata": {
        "id": "tqr9mwyd3EPF"
      },
      "execution_count": null,
      "outputs": []
    },
    {
      "cell_type": "markdown",
      "source": [
        "Zadanie: Utwórz trzy zmienne: jedną liczbową, jedną tekstową oraz jedną logiczną. Następnie wyświetl ich wartości oraz typy."
      ],
      "metadata": {
        "id": "SE1G6Y1E3G45"
      }
    },
    {
      "cell_type": "code",
      "source": [
        "# Ćwiczenie: zdefiniuj własne zmienne\n",
        "liczba = 10       # np. liczba całkowita\n",
        "tekst = \"Python\"  # tekst\n",
        "flaga = False     # wartość logiczna\n",
        "\n",
        "print(liczba, type(liczba))\n",
        "print(tekst, type(tekst))\n",
        "print(flaga, type(flaga))"
      ],
      "metadata": {
        "id": "6PTUPOto3I3X"
      },
      "execution_count": null,
      "outputs": []
    },
    {
      "cell_type": "markdown",
      "source": [
        "# 3. IF i Input\n",
        "Wprowadzenie\n",
        "Instrukcje warunkowe if, elif, else pozwalają na wykonanie różnych części kodu w zależności od spełnienia określonych warunków. Funkcja input() umożliwia pobieranie danych od użytkownika podczas działania programu.\n",
        "\n",
        "Struktura instrukcji warunkowej:\n",
        "\n",
        "text\n",
        "if warunek:\n",
        "    # kod wykonywany gdy warunek jest prawdziwy\n",
        "elif inny_warunek:\n",
        "    # kod wykonywany gdy inny_warunek jest prawdziwy\n",
        "else:\n",
        "    # kod wykonywany gdy żaden warunek nie jest spełniony"
      ],
      "metadata": {
        "id": "9aHnLKQ23MZo"
      }
    },
    {
      "cell_type": "code",
      "source": [
        "# Pobranie danych od użytkownika\n",
        "liczba = int(input(\"Podaj liczbę: \"))\n",
        "\n",
        "# Instrukcja warunkowa\n",
        "if liczba > 0:\n",
        "    print(\"Liczba jest dodatnia!\")\n",
        "else:\n",
        "    print(\"Liczba jest zerem lub ujemna!\")"
      ],
      "metadata": {
        "id": "maBQz4133Oep"
      },
      "execution_count": null,
      "outputs": []
    },
    {
      "cell_type": "markdown",
      "source": [
        "Zadanie: Napisz program, który pobierze od użytkownika wiek i wypisze komunikat:\n",
        "\n",
        "Jeśli wiek jest większy lub równy 18 – \"Jesteś pełnoletni\"\n",
        "\n",
        "W przeciwnym razie – \"Jesteś niepełnoletni\""
      ],
      "metadata": {
        "id": "VXtb-N5T3Ubu"
      }
    },
    {
      "cell_type": "code",
      "source": [
        "# Ćwiczenie: uzupełnij poniższy kod\n",
        "wiek = int(input(\"Podaj swój wiek: \"))\n",
        "if wiek >= 18:\n",
        "    print(\"Jesteś pełnoletni\")\n",
        "else:\n",
        "    print(\"Jesteś niepełnoletni\")"
      ],
      "metadata": {
        "id": "OsmgLV4p3VC_"
      },
      "execution_count": null,
      "outputs": []
    },
    {
      "cell_type": "markdown",
      "source": [
        "# 4. Listy - Podstawy (tworzenie, dodawanie i usuwanie elementów)\n",
        "Wprowadzenie\n",
        "Listy w Pythonie to uporządkowane, modyfikowalne kolekcje elementów, które mogą być różnych typów. Listy są bardzo wszechstronne i są jedną z najczęściej używanych struktur danych w Pythonie.\n",
        "\n",
        "Podstawowe operacje na listach:\n",
        "\n",
        "Tworzenie: [] lub list()\n",
        "\n",
        "Dodawanie: .append(), .insert()\n",
        "\n",
        "Usuwanie: del, .remove(), .pop()\n",
        "\n",
        "Dostęp do elementów: lista[indeks]"
      ],
      "metadata": {
        "id": "e_9eUVDb3W-K"
      }
    },
    {
      "cell_type": "code",
      "source": [
        "# Tworzenie listy\n",
        "owoce = [\"jabłko\", \"banan\", \"gruszka\"]\n",
        "print(\"Początkowa lista:\", owoce)\n",
        "\n",
        "# Dodawanie elementu\n",
        "owoce.append(\"pomarańcza\")\n",
        "print(\"Po dodaniu:\", owoce)\n",
        "\n",
        "# Usuwanie elementu (np. \"banan\")\n",
        "owoce.remove(\"banan\")\n",
        "print(\"Po usunięciu:\", owoce)"
      ],
      "metadata": {
        "id": "IXjQl7iF3aVy"
      },
      "execution_count": null,
      "outputs": []
    },
    {
      "cell_type": "code",
      "source": [
        "# Tworzenie list\n",
        "empty_list = []\n",
        "numbers = [1, 2, 3, 4, 5]\n",
        "fruits = [\"jabłko\", \"banan\", \"gruszka\", \"malina\"]\n",
        "mixed = [1, \"tekst\", 3.14, True]\n",
        "\n",
        "# Wyświetlanie list\n",
        "print(\"Lista liczb:\", numbers)\n",
        "print(\"Lista owoców:\", fruits)\n",
        "\n",
        "# Dostęp do elementów listy (indeksowanie od 0)\n",
        "print(\"Pierwszy owoc:\", fruits[0])\n",
        "print(\"Drugi owoc:\", fruits[1])\n",
        "print(\"Ostatni owoc:\", fruits[-1])  # Ujemne indeksy liczą od końca\n",
        "\n",
        "# Modyfikacja elementów\n",
        "fruits[1] = \"pomarańcza\"\n",
        "print(\"Po modyfikacji:\", fruits)\n",
        "\n",
        "# Dodawanie elementów\n",
        "fruits.append(\"ananas\")\n",
        "print(\"Po dodaniu:\", fruits)\n",
        "\n",
        "# Usuwanie elementów\n",
        "del fruits[0]  # Usuń element o indeksie 0\n",
        "print(\"Po usunięciu pierwszego elementu:\", fruits)\n",
        "\n",
        "removed_fruit = fruits.pop()  # Usuń i zwróć ostatni element\n",
        "print(\"Usunięty owoc:\", removed_fruit)\n",
        "print(\"Lista po pop():\", fruits)\n",
        "\n",
        "# Długość listy\n",
        "print(\"Liczba owoców:\", len(fruits))"
      ],
      "metadata": {
        "id": "uTovY66F3dHz"
      },
      "execution_count": null,
      "outputs": []
    },
    {
      "cell_type": "markdown",
      "source": [
        "Zadanie: Utwórz listę z kilkoma nazwami ulubionych owoców. Następnie:\n",
        "\n",
        "Dodaj do listy nowy owoc,\n",
        "\n",
        "Usuń jeden z owoców,\n",
        "\n",
        "Wypisz wynik końcowy."
      ],
      "metadata": {
        "id": "GcwzVdAl3feB"
      }
    },
    {
      "cell_type": "code",
      "source": [
        "# Ćwiczenie: zdefiniuj swoją listę\n",
        "owoce = [\"truskawka\", \"malina\", \"borówka\"]\n",
        "\n",
        "# Dodaj nowy owoc\n",
        "owoce.append(\"jeżyna\")\n",
        "\n",
        "# Usuń wybrany owoc (np. \"malina\")\n",
        "owoce.remove(\"malina\")\n",
        "\n",
        "print(\"Aktualna lista owoców:\", owoce)"
      ],
      "metadata": {
        "colab": {
          "base_uri": "https://localhost:8080/"
        },
        "id": "ZyyLHfvz3inX",
        "outputId": "2fa9a914-770b-41c1-8f27-bb6be0d58d33"
      },
      "execution_count": 2,
      "outputs": [
        {
          "output_type": "stream",
          "name": "stdout",
          "text": [
            "Aktualna lista owoców: ['truskawka', 'borówka', 'jeżyna']\n"
          ]
        }
      ]
    },
    {
      "cell_type": "markdown",
      "source": [
        "# 5. Listy - Slicing, In i List Comprehension\n",
        "Wprowadzenie\n",
        "Slicing (cięcie) list pozwala na uzyskanie podzbioru elementów listy poprzez określenie zakresu indeksów. Operatory in i not in służą do sprawdzania, czy dany element znajduje się w liście. List comprehension (wyrażenia listowe) to zwięzła składnia do tworzenia nowych list na podstawie istniejących."
      ],
      "metadata": {
        "id": "mDMSSuBg3q9f"
      }
    },
    {
      "cell_type": "code",
      "source": [
        "# Tworzenie przykładowej listy\n",
        "numbers = [0, 1, 2, 3, 4, 5, 6, 7, 8, 9]\n",
        "print(\"Oryginalna lista:\", numbers)\n",
        "\n",
        "# Slicing - podstawowa składnia: lista[start:stop]\n",
        "print(\"Elementy od 2 do 5:\", numbers[2:6])\n",
        "print(\"Pierwsze 3 elementy:\", numbers[:3])\n",
        "print(\"Elementy od 7 do końca:\", numbers[7:])\n",
        "\n",
        "# Slicing z krokiem - lista[start:stop:step]\n",
        "print(\"Co drugi element:\", numbers[::2])\n",
        "print(\"Elementy od 8 do 3 w odwrotnej kolejności:\", numbers[8:2:-1])\n",
        "\n",
        "# Sprawdzanie obecności elementów - 'in' i 'not in'\n",
        "print(\"Czy 5 jest w liście?\", 5 in numbers)\n",
        "print(\"Czy 10 jest w liście?\", 10 in numbers)\n",
        "\n",
        "# List comprehension - [wyrażenie for element in iterable]\n",
        "squares = [x**2 for x in numbers]\n",
        "print(\"Kwadraty liczb:\", squares)\n",
        "\n",
        "# List comprehension z warunkiem\n",
        "even_squares = [x**2 for x in numbers if x % 2 == 0]\n",
        "print(\"Kwadraty liczb parzystych:\", even_squares)"
      ],
      "metadata": {
        "id": "pkAYLjWg3sYk"
      },
      "execution_count": null,
      "outputs": []
    },
    {
      "cell_type": "code",
      "source": [
        "liczby = [1, 2, 3, 4, 5, 6, 7, 8, 9]\n",
        "\n",
        "# Slicing – pobranie elementów od indeksu 2 do 5\n",
        "podlista = liczby[2:6]\n",
        "print(\"Podlista:\", podlista)\n",
        "\n",
        "# Sprawdzenie czy liczba 5 jest w liście\n",
        "if 5 in liczby:\n",
        "    print(\"Liczba 5 znajduje się w liście.\")\n",
        "\n",
        "# List comprehension – utworzenie listy kwadratów liczb parzystych\n",
        "kwadraty_parzystych = [x**2 for x in liczby if x % 2 == 0]\n",
        "print(\"Kwadraty liczb parzystych:\", kwadraty_parzystych)"
      ],
      "metadata": {
        "id": "ojRbqB9J3wyv"
      },
      "execution_count": null,
      "outputs": []
    },
    {
      "cell_type": "markdown",
      "source": [
        "Zadanie: Mając daną listę liczb, stwórz nową listę zawierającą tylko sześciany liczb nieparzystych."
      ],
      "metadata": {
        "id": "E3hnjKaJ31II"
      }
    },
    {
      "cell_type": "code",
      "source": [
        "# Ćwiczenie: wykorzystaj list comprehension\n",
        "liczby = [1, 2, 3, 4, 5, 6, 7, 8, 9]\n",
        "sześciany_nieparzystych = [x**3 for x in liczby if x % 2 != 0]\n",
        "print(\"Sześciany liczb nieparzystych:\", sześciany_nieparzystych)"
      ],
      "metadata": {
        "id": "2nkuGcxU3xhy"
      },
      "execution_count": null,
      "outputs": []
    },
    {
      "cell_type": "markdown",
      "source": [
        "# 6. Pętle (for, while)\n",
        "Wprowadzenie\n",
        "Pętle w Pythonie umożliwiają wielokrotne wykonanie tego samego bloku kodu. Są dwa główne typy pętli:\n",
        "\n",
        "Pętla for - używana do iteracji przez określoną sekwencję (listę, zakres liczb, itp.)\n",
        "\n",
        "Pętla while - wykonuje kod tak długo, jak spełniony jest określony warunek"
      ],
      "metadata": {
        "id": "DKqRAmnh38Fr"
      }
    },
    {
      "cell_type": "code",
      "source": [
        "# Pętla for – iteracja po liście\n",
        "print(\"Pętla for:\")\n",
        "for i in range(5):\n",
        "    print(\"Iteracja:\", i)\n",
        "\n",
        "# Pętla while – iteracja dopóki warunek jest spełniony\n",
        "print(\"Pętla while:\")\n",
        "licznik = 0\n",
        "while licznik < 5:\n",
        "    print(\"Licznik:\", licznik)\n",
        "    licznik += 1"
      ],
      "metadata": {
        "id": "_nD4dAkO4Ab4"
      },
      "execution_count": null,
      "outputs": []
    },
    {
      "cell_type": "code",
      "source": [
        "# Pętla for z range\n",
        "print(\"Pętla for z range:\")\n",
        "for i in range(5):  # od 0 do 4\n",
        "    print(i, end=\" \")\n",
        "print()  # nowa linia\n",
        "\n",
        "# Iteracja przez listę\n",
        "fruits = [\"jabłko\", \"banan\", \"gruszka\", \"pomarańcza\"]\n",
        "print(\"\\nIteracja przez listę owoców:\")\n",
        "for fruit in fruits:\n",
        "    print(fruit)\n",
        "\n",
        "# Iteracja z dostępem do indeksu\n",
        "print(\"\\nIteracja z dostępem do indeksu:\")\n",
        "for index, fruit in enumerate(fruits):\n",
        "    print(f\"Indeks {index}: {fruit}\")\n",
        "\n",
        "# Pętla while\n",
        "print(\"\\nPętla while:\")\n",
        "count = 0\n",
        "while count < 5:\n",
        "    print(count, end=\" \")\n",
        "    count += 1\n",
        "print()\n",
        "\n",
        "# Przerwanie pętli z break\n",
        "print(\"\\nPrzerwanie pętli z break:\")\n",
        "for i in range(10):\n",
        "    if i == 5:\n",
        "        break\n",
        "    print(i, end=\" \")\n",
        "print(\"\\nPętla przerwana przy i=5\")\n",
        "\n",
        "# Pominięcie iteracji z continue\n",
        "print(\"\\nPominięcie iteracji z continue:\")\n",
        "for i in range(10):\n",
        "    if i % 2 == 0:\n",
        "        continue\n",
        "    print(i, end=\" \")\n",
        "print(\"\\nWypisane tylko nieparzyste liczby\")"
      ],
      "metadata": {
        "id": "mPb-lVWm4ERo"
      },
      "execution_count": null,
      "outputs": []
    },
    {
      "cell_type": "markdown",
      "source": [
        "Zadanie: Napisz program, który przy pomocy pętli for sumuje liczby od 1 do 10 i wyświetla wynik."
      ],
      "metadata": {
        "id": "4YWSKQhW4Evg"
      }
    },
    {
      "cell_type": "code",
      "source": [
        "# Ćwiczenie: zsumuj liczby od 1 do 10\n",
        "suma = 0\n",
        "for i in range(1, 11):\n",
        "    suma += i\n",
        "print(\"Suma liczb od 1 do 10 wynosi:\", suma)"
      ],
      "metadata": {
        "id": "xjOM1-4y4Iq5"
      },
      "execution_count": null,
      "outputs": []
    },
    {
      "cell_type": "markdown",
      "source": [
        "# 7. Tuple i Sety\n",
        "Wprowadzenie\n",
        "Krotki (tuples) i zbiory (sets) to dwa ważne typy kolekcji w Pythonie:\n",
        "\n",
        "Krotki (tuples) są uporządkowanymi, niemodyfikowalnymi sekwencjami. Po utworzeniu krotki nie można zmienić, dodać ani usunąć jej elementów. Używamy nawiasów okrągłych: (1, 2, 3).\n",
        "\n",
        "Zbiory (sets) są nieuporządkowanymi kolekcjami unikatowych elementów. Zbiory nie mogą zawierać duplikatów. Używamy nawiasów klamrowych: {1, 2, 3}."
      ],
      "metadata": {
        "id": "sZL_HStk4Hgl"
      }
    },
    {
      "cell_type": "code",
      "source": [
        "# ---- KROTKI (TUPLES) ----\n",
        "# Tworzenie krotek\n",
        "empty_tuple = ()\n",
        "single_element_tuple = (1,)  # Uwaga na przecinek!\n",
        "numbers_tuple = (1, 2, 3, 4, 5)\n",
        "mixed_tuple = (1, \"dwa\", 3.0, True)\n",
        "\n",
        "print(\"Krotka z liczbami:\", numbers_tuple)\n",
        "\n",
        "# Dostęp do elementów krotki (podobnie jak w listach)\n",
        "print(\"Pierwszy element:\", numbers_tuple[0])\n",
        "print(\"Ostatni element:\", numbers_tuple[-1])\n",
        "\n",
        "# Rozpakowanie krotki\n",
        "a, b, c, d, e = numbers_tuple\n",
        "print(\"Rozpakowane wartości:\", a, b, c, d, e)\n",
        "\n",
        "# Próba modyfikacji (spowoduje błąd)\n",
        "# numbers_tuple[0] = 10  # TypeError: 'tuple' object does not support item assignment\n",
        "\n",
        "# ---- ZBIORY (SETS) ----\n",
        "# Tworzenie zbiorów\n",
        "empty_set = set()  # Pusty zbiór (nie można użyć {}, bo to tworzy słownik)\n",
        "numbers_set = {1, 2, 3, 4, 5}\n",
        "print(\"Zbiór liczb:\", numbers_set)\n",
        "\n",
        "# Tworzenie zbioru z listy (usuwa duplikaty)\n",
        "numbers_with_duplicates = [1, 2, 2, 3, 3, 3, 4, 5, 5]\n",
        "unique_numbers = set(numbers_with_duplicates)\n",
        "print(\"Oryginalna lista:\", numbers_with_duplicates)\n",
        "print(\"Zbiór (unikalne wartości):\", unique_numbers)\n",
        "\n",
        "# Dodawanie elementów\n",
        "numbers_set.add(6)\n",
        "print(\"Po dodaniu 6:\", numbers_set)\n",
        "\n",
        "# Operacje na zbiorach\n",
        "set1 = {1, 2, 3, 4, 5}\n",
        "set2 = {4, 5, 6, 7, 8}\n",
        "\n",
        "# Suma zbiorów\n",
        "union_set = set1.union(set2)  # lub set1 | set2\n",
        "print(\"Suma zbiorów:\", union_set)\n",
        "\n",
        "# Część wspólna (przecięcie)\n",
        "intersection_set = set1.intersection(set2)  # lub set1 & set2\n",
        "print(\"Część wspólna zbiorów:\", intersection_set)"
      ],
      "metadata": {
        "id": "sxWqnw8t4PyS"
      },
      "execution_count": null,
      "outputs": []
    },
    {
      "cell_type": "code",
      "source": [
        "# Tuple\n",
        "kolory = (\"czerwony\", \"zielony\", \"niebieski\")\n",
        "print(\"Krotka (tuple):\", kolory)\n",
        "\n",
        "# Set – automatycznie usuwa duplikaty\n",
        "liczby = {1, 2, 3, 3, 4, 4, 5}\n",
        "print(\"Set (unikalne liczby):\", liczby)"
      ],
      "metadata": {
        "id": "F9sRjkBt4SRi"
      },
      "execution_count": null,
      "outputs": []
    },
    {
      "cell_type": "markdown",
      "source": [
        "Zadanie: Utwórz tuple z kilkoma nazwami miast oraz set z kilkoma liczbami, w tym powtarzającymi się, aby zobaczyć efekt unikalności.\n",
        "\n",
        "---\n",
        "\n"
      ],
      "metadata": {
        "id": "lcX-P-TA4Udt"
      }
    },
    {
      "cell_type": "code",
      "source": [
        "# Ćwiczenie: utwórz tuple i set\n",
        "miasta = (\"Warszawa\", \"Kraków\", \"Poznań\", \"Gdańsk\")\n",
        "liczby = {2, 4, 4, 6, 8, 8, 10}\n",
        "\n",
        "print(\"Miasta:\", miasta)\n",
        "print(\"Unikalne liczby:\", liczby)"
      ],
      "metadata": {
        "id": "JUSppWtF4YaX"
      },
      "execution_count": null,
      "outputs": []
    },
    {
      "cell_type": "markdown",
      "source": [
        "# 8. Praca z plikami - podstawy\n",
        "Wprowadzenie\n",
        "Praca z plikami w Pythonie jest realizowana przez funkcję open(), która otwiera plik i zwraca obiekt pliku. Ten obiekt ma metody do czytania, pisania i manipulowania zawartością pliku.\n",
        "\n",
        "Podstawowe tryby otwierania plików:\n",
        "\n",
        "'r' - tylko do odczytu (domyślny)\n",
        "\n",
        "'w' - tylko do zapisu (tworzy nowy plik lub nadpisuje istniejący)\n",
        "\n",
        "'a' - do dopisywania (dodaje zawartość na końcu pliku)"
      ],
      "metadata": {
        "id": "Bdb20ON04XCd"
      }
    },
    {
      "cell_type": "code",
      "source": [
        "# W Google Colab musimy najpierw utworzyć plik, aby móc na nim pracować\n",
        "# Tworzenie pliku testowego\n",
        "with open('example.txt', 'w') as file:\n",
        "    file.write(\"Pierwsza linia tekstu.\\n\")\n",
        "    file.write(\"Druga linia tekstu.\\n\")\n",
        "    file.write(\"Trzecia linia tekstu.\\n\")\n",
        "\n",
        "# Otwieranie pliku do odczytu\n",
        "file = open('example.txt', 'r')\n",
        "content = file.read()  # Wczytuje całą zawartość pliku\n",
        "file.close()  # Zawsze zamykaj plik po zakończeniu pracy\n",
        "print(\"Cała zawartość pliku:\")\n",
        "print(content)\n",
        "\n",
        "# Zalecane podejście - używanie bloku 'with'\n",
        "# Automatycznie zamyka plik po wyjściu z bloku\n",
        "print(\"\\nCzytanie pliku z blokiem 'with':\")\n",
        "with open('example.txt', 'r') as file:\n",
        "    content = file.read()\n",
        "    print(content)\n",
        "\n",
        "# Czytanie pliku linia po linii\n",
        "print(\"\\nCzytanie pliku linia po linii:\")\n",
        "with open('example.txt', 'r') as file:\n",
        "    for line in file:\n",
        "        print(line.strip())  # strip() usuwa białe znaki\n",
        "\n",
        "# Dopisywanie do pliku\n",
        "print(\"\\nDopisywanie do pliku:\")\n",
        "with open('example.txt', 'a') as file:\n",
        "    file.write(\"Czwarta linia - dopisana.\\n\")\n",
        "\n",
        "# Sprawdzanie efektu\n",
        "with open('example.txt', 'r') as file:\n",
        "    print(file.read())"
      ],
      "metadata": {
        "id": "otB50pyT4fqi"
      },
      "execution_count": null,
      "outputs": []
    },
    {
      "cell_type": "code",
      "source": [
        "# Zakładamy, że plik 'przyklad.txt' istnieje w tym samym katalogu\n",
        "plik = open(\"przyklad.txt\", \"r\", encoding=\"utf-8\")\n",
        "zawartosc = plik.read()\n",
        "print(\"Zawartość pliku:\\n\", zawartosc)\n",
        "plik.close()"
      ],
      "metadata": {
        "id": "qACwolcB4h8U"
      },
      "execution_count": null,
      "outputs": []
    },
    {
      "cell_type": "markdown",
      "source": [
        "Zadanie: Utwórz (lub wgraj) plik tekstowy o dowolnej zawartości, a następnie napisz kod, który:\n",
        "\n",
        "Otworzy plik,\n",
        "\n",
        "Wypisze jego zawartość,\n",
        "\n",
        "Zamknie plik."
      ],
      "metadata": {
        "id": "WFQEBSrS4l9x"
      }
    },
    {
      "cell_type": "code",
      "source": [
        "# Ćwiczenie: odczytaj zawartość pliku 'moj_plik.txt'\n",
        "with open(\"moj_plik.txt\", \"r\", encoding=\"utf-8\") as plik:\n",
        "    zawartosc = plik.read()\n",
        "    print(\"Zawartość pliku 'moj_plik.txt':\\n\", zawartosc)"
      ],
      "metadata": {
        "id": "i90KtSzR4k9M"
      },
      "execution_count": null,
      "outputs": []
    },
    {
      "cell_type": "markdown",
      "source": [
        "# 9. Praca z tekstem (replace(), strip(), split(), upper(), lower())\n",
        "a) Wyjaśnienie\n",
        "Metody na łańcuchach znaków (string) pozwalają na modyfikację i przetwarzanie tekstu:\n",
        "\n",
        "replace() – zamienia określone fragmenty tekstu,\n",
        "\n",
        "strip() – usuwa białe znaki z początku i końca,\n",
        "\n",
        "split() – dzieli tekst na listę podziałem na spacje lub inny znak,\n",
        "\n",
        "upper() oraz lower() – zmieniają wielkość liter."
      ],
      "metadata": {
        "id": "e-rdUsbf4sMd"
      }
    },
    {
      "cell_type": "code",
      "source": [
        "tekst = \"   Python jest super!   \"\n",
        "print(\"Oryginalny tekst:\", tekst)\n",
        "\n",
        "# Usunięcie białych znaków\n",
        "tekst_strip = tekst.strip()\n",
        "print(\"Po strip():\", tekst_strip)\n",
        "\n",
        "# Zamiana słowa\n",
        "tekst_replace = tekst_strip.replace(\"super\", \"świetny\")\n",
        "print(\"Po replace():\", tekst_replace)\n",
        "\n",
        "# Dzielenie tekstu\n",
        "lista_slow = tekst_strip.split()\n",
        "print(\"Po split():\", lista_slow)\n",
        "\n",
        "# Wielkie i małe litery\n",
        "print(\"upper():\", tekst_strip.upper())\n",
        "print(\"lower():\", tekst_strip.lower())"
      ],
      "metadata": {
        "id": "ihHiTJ4f40aK"
      },
      "execution_count": null,
      "outputs": []
    },
    {
      "cell_type": "markdown",
      "source": [
        "Zadanie: Napisz program, który:\n",
        "\n",
        "Pobierze od użytkownika zdanie,\n",
        "\n",
        "Usunie zbędne spacje,\n",
        "\n",
        "Zmieni wszystkie litery na wielkie,\n",
        "\n",
        "Podzieli tekst na słowa i wyświetli wynik."
      ],
      "metadata": {
        "id": "JhgkW8za43WP"
      }
    },
    {
      "cell_type": "code",
      "source": [
        "# Ćwiczenie: przetwarzanie tekstu\n",
        "zdanie = input(\"Podaj zdanie: \")\n",
        "zdanie = zdanie.strip()       # usuwa nadmiarowe spacje\n",
        "zdanie_upper = zdanie.upper()  # zamiana na wielkie litery\n",
        "lista_slow = zdanie_upper.split()  # dzielenie na słowa\n",
        "print(\"Przetworzony tekst:\", lista_slow)"
      ],
      "metadata": {
        "id": "56rxL2tH463Q"
      },
      "execution_count": null,
      "outputs": []
    },
    {
      "cell_type": "markdown",
      "source": [
        "# 10. Słowniki\n",
        "a) Wyjaśnienie\n",
        "Słowniki (dictionaries) przechowują dane w postaci par klucz-wartość. Umożliwiają szybki dostęp do danych na podstawie unikalnych kluczy.\n",
        "\n",
        "b) Kod objaśniający\n",
        "Przykład tworzenia i wykorzystania słownika:"
      ],
      "metadata": {
        "id": "n3aQ2J8-49bT"
      }
    },
    {
      "cell_type": "code",
      "source": [
        "# Tworzenie słownika\n",
        "student = {\n",
        "    \"imie\": \"Kasia\",\n",
        "    \"wiek\": 21,\n",
        "    \"kierunek\": \"Informatyka\"\n",
        "}\n",
        "\n",
        "# Dostęp do wartości na podstawie klucza\n",
        "print(\"Imię studenta:\", student[\"imie\"])"
      ],
      "metadata": {
        "id": "77mJoXwA4_ye"
      },
      "execution_count": null,
      "outputs": []
    },
    {
      "cell_type": "markdown",
      "source": [
        "Zadanie: Utwórz słownik zawierający imiona studentów i ich oceny. Następnie wypisz oceny wybranego studenta."
      ],
      "metadata": {
        "id": "UdsJRD0n5B5B"
      }
    },
    {
      "cell_type": "code",
      "source": [
        "# Ćwiczenie: utwórz słownik i pobierz wartość\n",
        "oceny_studentow = {\n",
        "    \"Adam\": 4.5,\n",
        "    \"Beata\": 5.0,\n",
        "    \"Cezary\": 3.8\n",
        "}\n",
        "\n",
        "# Wypisz ocenę Beaty\n",
        "print(\"Ocena Beaty:\", oceny_studentow[\"Beata\"])"
      ],
      "metadata": {
        "id": "dG3hWal65Dhb"
      },
      "execution_count": null,
      "outputs": []
    },
    {
      "cell_type": "markdown",
      "source": [
        "# 11. Importowanie bibliotek na przykładzie datetime\n",
        "a) Wyjaśnienie\n",
        "Biblioteki w Pythonie rozszerzają funkcjonalność języka. Przykładowo, moduł datetime pozwala na operacje związane z datą i czasem. Aby z niego korzystać, należy go najpierw zaimportować.\n",
        "\n",
        "b) Kod objaśniający\n",
        "Przykład importu biblioteki datetime i pobrania aktualnej daty:"
      ],
      "metadata": {
        "id": "ggzkKL2j5FPd"
      }
    },
    {
      "cell_type": "code",
      "source": [
        "import datetime\n",
        "\n",
        "# Pobranie aktualnej daty i czasu\n",
        "teraz = datetime.datetime.now()\n",
        "print(\"Aktualna data i czas:\", teraz)"
      ],
      "metadata": {
        "id": "NH6D3_C55Iaj"
      },
      "execution_count": null,
      "outputs": []
    },
    {
      "cell_type": "markdown",
      "source": [
        "Zadanie: Zaimportuj moduł datetime i wypisz dzisiejszą datę w formacie \"DD-MM-YYYY\"."
      ],
      "metadata": {
        "id": "uUxWbB075Ko8"
      }
    },
    {
      "cell_type": "code",
      "source": [
        "# Ćwiczenie: formatowanie daty\n",
        "import datetime\n",
        "\n",
        "dzisiaj = datetime.datetime.now()\n",
        "data_sformatowana = dzisiaj.strftime(\"%d-%m-%Y\")\n",
        "print(\"Dzisiejsza data:\", data_sformatowana)"
      ],
      "metadata": {
        "id": "ANK1GJMD5MT0"
      },
      "execution_count": null,
      "outputs": []
    },
    {
      "cell_type": "markdown",
      "source": [
        "# 12. Własne funkcje\n",
        "a) Wyjaśnienie\n",
        "Funkcje pozwalają na grupowanie kodu, który wykonuje określone zadanie. Dzięki nim możemy wielokrotnie wykorzystywać ten sam fragment kodu, co poprawia czytelność i modularność programu.\n",
        "\n",
        "b) Kod objaśniający\n",
        "Przykład definicji funkcji obliczającej kwadrat liczby:"
      ],
      "metadata": {
        "id": "mHg5oofe5OFJ"
      }
    },
    {
      "cell_type": "code",
      "source": [
        "def kwadrat(x):\n",
        "    \"\"\"Funkcja zwraca kwadrat liczby x.\"\"\"\n",
        "    return x ** 2\n",
        "\n",
        "# Wywołanie funkcji\n",
        "wynik = kwadrat(5)\n",
        "print(\"Kwadrat 5 wynosi:\", wynik)"
      ],
      "metadata": {
        "id": "CdAonwFh5QEL"
      },
      "execution_count": null,
      "outputs": []
    },
    {
      "cell_type": "markdown",
      "source": [
        "Zadanie: Napisz funkcję, która przyjmie liczbę jako argument i zwróci jej sześcian."
      ],
      "metadata": {
        "id": "E_1oBqdC5R6p"
      }
    },
    {
      "cell_type": "code",
      "source": [
        "# Ćwiczenie: zdefiniuj funkcję sześcian\n",
        "def szescian(x):\n",
        "    return x ** 3\n",
        "\n",
        "# Test funkcji\n",
        "print(\"Sześcian 3 wynosi:\", szescian(3))"
      ],
      "metadata": {
        "id": "Kqjkkg3E5UAB"
      },
      "execution_count": null,
      "outputs": []
    },
    {
      "cell_type": "markdown",
      "source": [
        "# 13. Obsługa błędów\n",
        "a) Wyjaśnienie\n",
        "Obsługa błędów (exception handling) umożliwia reagowanie na nieoczekiwane sytuacje w trakcie wykonywania programu. Konstrukcja try...except pozwala przechwycić błędy i zapobiec awarii programu.\n",
        "\n",
        "b) Kod objaśniający\n",
        "Przykład obsługi błędu przy dzieleniu przez zero:"
      ],
      "metadata": {
        "id": "0jJc5ot75Vhv"
      }
    },
    {
      "cell_type": "code",
      "source": [
        "try:\n",
        "    licznik = 10\n",
        "    dzielnik = 0\n",
        "    wynik = licznik / dzielnik\n",
        "    print(\"Wynik dzielenia:\", wynik)\n",
        "except ZeroDivisionError:\n",
        "    print(\"Błąd: Próba dzielenia przez zero!\")"
      ],
      "metadata": {
        "id": "zSlXCB1P5ahc"
      },
      "execution_count": null,
      "outputs": []
    },
    {
      "cell_type": "markdown",
      "source": [
        "Zadanie: Napisz program, który pobierze od użytkownika dwie liczby, a następnie spróbuje je podzielić. Użyj obsługi błędów, aby wyłapać sytuację dzielenia przez zero."
      ],
      "metadata": {
        "id": "AovciF-u5cor"
      }
    },
    {
      "cell_type": "code",
      "source": [
        "# Ćwiczenie: obsługa błędu przy dzieleniu\n",
        "try:\n",
        "    a = float(input(\"Podaj licznik: \"))\n",
        "    b = float(input(\"Podaj dzielnik: \"))\n",
        "    wynik = a / b\n",
        "    print(\"Wynik dzielenia:\", wynik)\n",
        "except ZeroDivisionError:\n",
        "    print(\"Błąd: Nie można dzielić przez zero!\")\n",
        "except ValueError:\n",
        "    print(\"Błąd: Wprowadzono niepoprawną wartość!\")"
      ],
      "metadata": {
        "id": "LCHeYF-I5ebw"
      },
      "execution_count": null,
      "outputs": []
    }
  ]
}