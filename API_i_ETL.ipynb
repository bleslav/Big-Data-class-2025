{
  "nbformat": 4,
  "nbformat_minor": 0,
  "metadata": {
    "colab": {
      "provenance": [],
      "collapsed_sections": [
        "KJoCOcgY3Z2q",
        "EjGPwO1E7KlI",
        "x34Hz0efEyg0"
      ],
      "authorship_tag": "ABX9TyMynEaqWBNyJThYtXHIyzCJ",
      "include_colab_link": true
    },
    "kernelspec": {
      "name": "python3",
      "display_name": "Python 3"
    },
    "language_info": {
      "name": "python"
    }
  },
  "cells": [
    {
      "cell_type": "markdown",
      "metadata": {
        "id": "view-in-github",
        "colab_type": "text"
      },
      "source": [
        "<a href=\"https://colab.research.google.com/github/bleslav/Big-Data-class-2025/blob/main/API_i_ETL.ipynb\" target=\"_parent\"><img src=\"https://colab.research.google.com/assets/colab-badge.svg\" alt=\"Open In Colab\"/></a>"
      ]
    },
    {
      "cell_type": "markdown",
      "source": [
        "Uwagi przed zajęciami:\n",
        "Rozmawiałem ostatnio z koleżanką, która pracuje jako Data Scientist. Poprosiłem o rady dla studentów, którzy też chcieliby w tym pracować:\n",
        "\n",
        "![rady dla studentów.png](data:image/png;base64,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)"
      ],
      "metadata": {
        "id": "k_IrzyvhIu4s"
      }
    },
    {
      "cell_type": "markdown",
      "source": [
        "Co przypomina mi, że miałem Wam polecić newsletter od Crappy Data ([link](https://crappydata.pl/newsletter/)). Możecie zobaczyć jak Senior Data Scientist szuka obecnie pracy. I nie, nie jest przesłodko, mega łatwo i firmy się o nią zabijają.\n",
        "\n",
        "Przy okazji- bardzo mi się podobał pomysł Kasi (autorki Crappy Data) żeby robić sobie notatki z rekrutacji. Jak aplikujemy to wypisać: dokąd, za ile, screenshot ogłoszenia o pracę, jak poszło na pierwszym/drugim/trzecim etapie, dlaczego tak poszło na pierwszym/drugim/trzecim etapie, wynik.\n",
        "\n",
        "I na koniec artykuł z bloga, który nas dotyczy [\"Nie zaczynaj od Pythona\"](https://crappydata.pl/2024/04/nie-zaczynaj-od-pythona/) ;)"
      ],
      "metadata": {
        "id": "SVGNKu4vJRVQ"
      }
    },
    {
      "cell_type": "markdown",
      "source": [
        "# Intro\n",
        "\n",
        "Franek jest studentem trzeciego roku kognitywistyki, który ma do wykonania semestralny projekt zaliczeniowy. Zadanie polega na analizie danych kognitywnych z wykorzystaniem Cognitive Atlas API. Termin oddania pracy to jutro, a Franek - jak to Franek - oczywiście zabrał się za projekt wieczorem przed ostatecznym terminem.\n",
        "\n",
        "Profesor wymaga nie tylko pobrania danych z API, ale również ich czyszczenia, transformacji i analizy - klasycznego procesu ETL (Extract, Transform, Load). Na szczęście Franek zna podstawy Pythona i wie, że Google Colab może uratować sytuację."
      ],
      "metadata": {
        "id": "JAFuoA_i2_rV"
      }
    },
    {
      "cell_type": "markdown",
      "source": [
        "# Pytania na rozruszanie\n",
        "\n",
        "1.   Kto kiedykolwiek zostawił projekt na ostatnią chwilę?\n",
        "2.   Czy ktoś już pracował z jakimkolwiek API?\n",
        "3.   Jakie wyzwania możemy napotkać podczas pracy z danymi?"
      ],
      "metadata": {
        "id": "OnOMvQhh3LbG"
      }
    },
    {
      "cell_type": "markdown",
      "source": [
        "# API"
      ],
      "metadata": {
        "id": "KJoCOcgY3Z2q"
      }
    },
    {
      "cell_type": "markdown",
      "source": [
        "API - interfejs programistyczny aplikacji, który pozwala różnym systemom na komunikację."
      ],
      "metadata": {
        "id": "bQSXtPEH7Wx0"
      }
    },
    {
      "cell_type": "code",
      "source": [
        "# Jeśli nie masz zainstalowanej biblioteki graphviz w Google Colab, odkomentuj poniższą linię:\n",
        "# !pip install graphviz\n",
        "\n",
        "from graphviz import Digraph\n",
        "\n",
        "# Inicjalizacja diagramu\n",
        "dot = Digraph(comment='Przepływ Danych w Pracy z API')\n",
        "\n",
        "# Dodanie węzłów\n",
        "dot.node('A', 'Client\\n(Python Script)')\n",
        "dot.node('B', 'API Server')\n",
        "dot.node('C', 'Źródło Danych\\n(Baza, serwis, itd.)')\n",
        "\n",
        "# Dodanie krawędzi (strzałek) ilustrujących przepływ informacji\n",
        "dot.edge('A', 'B', label='HTTP Request')\n",
        "dot.edge('B', 'C', label='Zapytanie o dane')\n",
        "dot.edge('C', 'B', label='Odpowiedź z danymi')\n",
        "dot.edge('B', 'A', label='HTTP Response\\n(JSON)')\n",
        "\n",
        "# Wyświetlenie diagramu w notatniku (Colab)\n",
        "dot.render('api_workflow', format='png', view=True)\n",
        "dot  # Wyświetlenie grafu w notatniku"
      ],
      "metadata": {
        "colab": {
          "base_uri": "https://localhost:8080/",
          "height": 379
        },
        "id": "KiTj3hmU3ylM",
        "outputId": "34e80052-b114-4368-bacb-a423552a2e08"
      },
      "execution_count": 9,
      "outputs": [
        {
          "output_type": "execute_result",
          "data": {
            "image/svg+xml": "<?xml version=\"1.0\" encoding=\"UTF-8\" standalone=\"no\"?>\n<!DOCTYPE svg PUBLIC \"-//W3C//DTD SVG 1.1//EN\"\n \"http://www.w3.org/Graphics/SVG/1.1/DTD/svg11.dtd\">\n<!-- Generated by graphviz version 2.43.0 (0)\n -->\n<!-- Title: %3 Pages: 1 -->\n<svg width=\"249pt\" height=\"268pt\"\n viewBox=\"0.00 0.00 248.85 268.48\" xmlns=\"http://www.w3.org/2000/svg\" xmlns:xlink=\"http://www.w3.org/1999/xlink\">\n<g id=\"graph0\" class=\"graph\" transform=\"scale(1 1) rotate(0) translate(4 264.48)\">\n<title>%3</title>\n<polygon fill=\"white\" stroke=\"transparent\" points=\"-4,4 -4,-264.48 244.85,-264.48 244.85,4 -4,4\"/>\n<!-- A -->\n<g id=\"node1\" class=\"node\">\n<title>A</title>\n<ellipse fill=\"none\" stroke=\"black\" cx=\"84.85\" cy=\"-233.61\" rx=\"70.92\" ry=\"26.74\"/>\n<text text-anchor=\"middle\" x=\"84.85\" y=\"-237.41\" font-family=\"Times,serif\" font-size=\"14.00\">Client</text>\n<text text-anchor=\"middle\" x=\"84.85\" y=\"-222.41\" font-family=\"Times,serif\" font-size=\"14.00\">(Python Script)</text>\n</g>\n<!-- B -->\n<g id=\"node2\" class=\"node\">\n<title>B</title>\n<ellipse fill=\"none\" stroke=\"black\" cx=\"84.85\" cy=\"-122.74\" rx=\"50.09\" ry=\"18\"/>\n<text text-anchor=\"middle\" x=\"84.85\" y=\"-119.04\" font-family=\"Times,serif\" font-size=\"14.00\">API Server</text>\n</g>\n<!-- A&#45;&gt;B -->\n<g id=\"edge1\" class=\"edge\">\n<title>A&#45;&gt;B</title>\n<path fill=\"none\" stroke=\"black\" d=\"M50.16,-210.01C43.55,-203.95 37.55,-196.81 33.85,-188.74 28.29,-176.62 27.64,-170.54 33.85,-158.74 36.94,-152.88 41.5,-147.81 46.64,-143.49\"/>\n<polygon fill=\"black\" stroke=\"black\" points=\"49.08,-146.05 55.08,-137.32 44.94,-140.4 49.08,-146.05\"/>\n<text text-anchor=\"middle\" x=\"74.85\" y=\"-170.04\" font-family=\"Times,serif\" font-size=\"14.00\">HTTP Request</text>\n</g>\n<!-- B&#45;&gt;A -->\n<g id=\"edge4\" class=\"edge\">\n<title>B&#45;&gt;A</title>\n<path fill=\"none\" stroke=\"black\" d=\"M103.46,-139.83C108.46,-145.27 113.21,-151.76 115.85,-158.74 120.58,-171.21 119.89,-176.03 115.85,-188.74 114.78,-192.13 113.33,-195.49 111.65,-198.74\"/>\n<polygon fill=\"black\" stroke=\"black\" points=\"108.49,-197.2 106.41,-207.59 114.52,-200.77 108.49,-197.2\"/>\n<text text-anchor=\"middle\" x=\"163.85\" y=\"-177.54\" font-family=\"Times,serif\" font-size=\"14.00\">HTTP Response</text>\n<text text-anchor=\"middle\" x=\"163.85\" y=\"-162.54\" font-family=\"Times,serif\" font-size=\"14.00\">(JSON)</text>\n</g>\n<!-- C -->\n<g id=\"node3\" class=\"node\">\n<title>C</title>\n<ellipse fill=\"none\" stroke=\"black\" cx=\"84.85\" cy=\"-26.87\" rx=\"84.71\" ry=\"26.74\"/>\n<text text-anchor=\"middle\" x=\"84.85\" y=\"-30.67\" font-family=\"Times,serif\" font-size=\"14.00\">Źródło Danych</text>\n<text text-anchor=\"middle\" x=\"84.85\" y=\"-15.67\" font-family=\"Times,serif\" font-size=\"14.00\">(Baza, serwis, itd.)</text>\n</g>\n<!-- B&#45;&gt;C -->\n<g id=\"edge2\" class=\"edge\">\n<title>B&#45;&gt;C</title>\n<path fill=\"none\" stroke=\"black\" d=\"M51.97,-109.05C42.48,-103.67 33.24,-96.37 27.85,-86.74 21.88,-76.06 26.35,-65.91 34.93,-57.14\"/>\n<polygon fill=\"black\" stroke=\"black\" points=\"37.37,-59.66 42.56,-50.42 32.75,-54.4 37.37,-59.66\"/>\n<text text-anchor=\"middle\" x=\"74.85\" y=\"-75.54\" font-family=\"Times,serif\" font-size=\"14.00\">Zapytanie o dane</text>\n</g>\n<!-- C&#45;&gt;B -->\n<g id=\"edge3\" class=\"edge\">\n<title>C&#45;&gt;B</title>\n<path fill=\"none\" stroke=\"black\" d=\"M110.9,-52.84C115.39,-58.58 119.39,-65 121.85,-71.74 124.14,-78 124.49,-80.62 121.85,-86.74 119.94,-91.18 117.16,-95.31 113.97,-99.08\"/>\n<polygon fill=\"black\" stroke=\"black\" points=\"111.46,-96.64 106.99,-106.25 116.47,-101.52 111.46,-96.64\"/>\n<text text-anchor=\"middle\" x=\"181.85\" y=\"-75.54\" font-family=\"Times,serif\" font-size=\"14.00\">Odpowiedź z danymi</text>\n</g>\n</g>\n</svg>\n",
            "text/plain": [
              "<graphviz.graphs.Digraph at 0x7c9f0c3299d0>"
            ]
          },
          "metadata": {},
          "execution_count": 9
        }
      ]
    },
    {
      "cell_type": "markdown",
      "source": [
        "## ​JSON (JavaScript Object Notation)\n",
        "Lekki format wymiany danych, który jest łatwy do odczytu zarówno przez ludzi, jak i maszyny. Jest on oparty na podzbiorze języka JavaScript, ale jego zastosowanie jest niezależne od konkretnego języka programowania. JSON wykorzystuje strukturę par klucz-wartość oraz list, co pozwala na przechowywanie złożonych danych w sposób uporządkowany.\n",
        "\n",
        "\n",
        "\n",
        "```\n",
        "{\n",
        "  \"imie\": \"Jan\",\n",
        "  \"nazwisko\": \"Kowalski\",\n",
        "  \"wiek\": 30,\n",
        "  \"zainteresowania\": [\"programowanie\", \"podróże\", \"fotografia\"]\n",
        "}\n",
        "```\n",
        "\n"
      ],
      "metadata": {
        "id": "tnxIydWN4D68"
      }
    },
    {
      "cell_type": "markdown",
      "source": [
        "## CSV (Comma-Separated Values)\n",
        "Format pliku tekstowego służący do przechowywania danych tabelarycznych. W pliku CSV każda linia reprezentuje jeden wiersz tabeli, a wartości w kolumnach są oddzielone przecinkami lub innymi separatorami, takimi jak średniki. Format ten jest powszechnie stosowany do wymiany danych między różnymi aplikacjami, zwłaszcza arkuszami kalkulacyjnymi i bazami danych.\n",
        "\n",
        "\n",
        "\n",
        "```\n",
        "imie,nazwisko,wiek\n",
        "Jan,Kowalski,30\n",
        "Anna,Nowak,25\n",
        "```\n",
        "\n"
      ],
      "metadata": {
        "id": "i1yyv73B4R1z"
      }
    },
    {
      "cell_type": "markdown",
      "source": [
        "## Wprowadzenie do API\n",
        "Franek zaczyna od zrozumienia, czym jest API - interfejs programistyczny aplikacji, który pozwala różnym systemom na komunikację."
      ],
      "metadata": {
        "id": "Ck9Q_50e45Ld"
      }
    },
    {
      "cell_type": "code",
      "execution_count": 10,
      "metadata": {
        "colab": {
          "base_uri": "https://localhost:8080/"
        },
        "id": "fZEHCyY6zU-c",
        "outputId": "6f2929fa-0985-4fad-f004-2dde499e3777"
      },
      "outputs": [
        {
          "output_type": "stream",
          "name": "stdout",
          "text": [
            "Dostępne endpointy Cognitive Atlas API:\n",
            "- /api/concept - informacje o konceptach poznawczych\n",
            "- /api/task - informacje o zadaniach poznawczych\n",
            "- /api/disorder - informacje o zaburzeniach\n",
            "- /api/search - wyszukiwanie w bazie\n"
          ]
        }
      ],
      "source": [
        "# Franek zaczyna od importowania potrzebnych bibliotek\n",
        "import requests\n",
        "import pandas as pd\n",
        "import json\n",
        "import matplotlib.pyplot as plt\n",
        "\n",
        "# Sprawdza dokumentację Cognitive Atlas API\n",
        "print(\"Dostępne endpointy Cognitive Atlas API:\")\n",
        "print(\"- /api/concept - informacje o konceptach poznawczych\")\n",
        "print(\"- /api/task - informacje o zadaniach poznawczych\")\n",
        "print(\"- /api/disorder - informacje o zaburzeniach\")\n",
        "print(\"- /api/search - wyszukiwanie w bazie\")\n",
        "\n",
        "# Tworzy funkcję pomocniczą do pobierania danych z API\n",
        "def get_data_from_api(endpoint):\n",
        "    base_url = \"http://www.cognitiveatlas.org/api\"\n",
        "    url = f\"{base_url}/{endpoint}\"\n",
        "    response = requests.get(url)\n",
        "\n",
        "    if response.status_code == 200:\n",
        "        return response.json()\n",
        "    else:\n",
        "        print(f\"Błąd {response.status_code}: Nie udało się pobrać danych\")\n",
        "        return None"
      ]
    },
    {
      "cell_type": "markdown",
      "source": [
        "Franek testuje API, próbując pobrać jeden koncept poznawczy:"
      ],
      "metadata": {
        "id": "pvXzJYRC5Ayo"
      }
    },
    {
      "cell_type": "code",
      "source": [
        "# Próba pobrania danych o konceptach\n",
        "concepts = get_data_from_api(\"concept\")\n",
        "\n",
        "# Sprawdzenie, czy dane zostały pobrane poprawnie\n",
        "if concepts:\n",
        "    print(f\"Pobrano {len(concepts)} konceptów\")\n",
        "    print(\"\\nPrzykładowy koncept:\")\n",
        "    print(json.dumps(concepts[0], indent=2))\n",
        "else:\n",
        "    print(\"Nie udało się pobrać danych o konceptach\")"
      ],
      "metadata": {
        "colab": {
          "base_uri": "https://localhost:8080/"
        },
        "id": "yswl0ctAzgdS",
        "outputId": "06e67f2b-0882-4e54-c98c-4cb1c8847bfe"
      },
      "execution_count": 11,
      "outputs": [
        {
          "output_type": "stream",
          "name": "stdout",
          "text": [
            "Pobrano 915 konceptów\n",
            "\n",
            "Przykładowy koncept:\n",
            "{\n",
            "  \"id_concept_class\": \"ctp_C3\",\n",
            "  \"creation_time\": 1512660626063,\n",
            "  \"event_stamp\": \"2009-06-22T19:12:54\",\n",
            "  \"def_id_user\": \"usr_4e42a3196fbcd\",\n",
            "  \"def_event_stamp\": \"2011-08-10T20:41:26\",\n",
            "  \"last_updated\": 1512660626063,\n",
            "  \"def_id\": \"def_4e42ecf5ef5a9\",\n",
            "  \"name\": \"abductive reasoning\",\n",
            "  \"alias\": \"\",\n",
            "  \"definition_text\": \"The process of adopting an explanatory hypothesis; inferring the cause A as a possible explanation for the consequence B.\",\n",
            "  \"id_user\": \"usr_0000000000\",\n",
            "  \"id\": \"trm_4a3fd79d096be\"\n",
            "}\n"
          ]
        }
      ]
    },
    {
      "cell_type": "markdown",
      "source": [
        "## Zadanie 1\n",
        "Zmodyfikuj kod aby Franka pobrać dane o zadaniach poznawczych (tasks) zamiast konceptów i wyświetlić kilka przykładowych rezultatów."
      ],
      "metadata": {
        "id": "D71UZfYG4r6d"
      }
    },
    {
      "cell_type": "code",
      "source": [],
      "metadata": {
        "id": "FgS5b7Br5KCZ"
      },
      "execution_count": 11,
      "outputs": []
    },
    {
      "cell_type": "markdown",
      "source": [
        "## Pobieranie danych z Cognitive Atlas API\n",
        "Franek chce teraz dokładniej zbadać Cognitive Atlas API ([link](https://www.cognitiveatlas.org/)) i pobrać różne typy danych:"
      ],
      "metadata": {
        "id": "0Y4_SKL85KVh"
      }
    },
    {
      "cell_type": "code",
      "source": [
        "# Franek potrzebuje znaleźć koncepty związane z pamięcią\n",
        "def search_concepts(query):\n",
        "    search_data = get_data_from_api(f\"search?q={query}\")\n",
        "    return search_data\n",
        "\n",
        "# Wyszukiwanie konceptów związanych z pamięcią\n",
        "memory_concepts = search_concepts(\"memory\")\n",
        "\n",
        "# Wyświetlenie wyników\n",
        "if memory_concepts:\n",
        "    print(f\"Znaleziono {len(memory_concepts)} konceptów związanych z pamięcią\")\n",
        "\n",
        "    # Wyświetlenie pierwszych 3 wyników\n",
        "    for i, concept in enumerate(memory_concepts[:3]):\n",
        "        print(f\"\\nWynik {i+1}:\")\n",
        "        print(f\"Nazwa: {concept['name']}\")\n",
        "        print(f\"Definicja: {concept.get('definition', 'Brak definicji')}\")"
      ],
      "metadata": {
        "colab": {
          "base_uri": "https://localhost:8080/"
        },
        "id": "lNfNRkpA5LQg",
        "outputId": "155fd6b9-76f6-47c5-d3bb-f55ab393f8b6"
      },
      "execution_count": 12,
      "outputs": [
        {
          "output_type": "stream",
          "name": "stdout",
          "text": [
            "Znaleziono 216 konceptów związanych z pamięcią\n",
            "\n",
            "Wynik 1:\n",
            "Nazwa: auditory memory\n",
            "Definicja: Brak definicji\n",
            "\n",
            "Wynik 2:\n",
            "Nazwa: auditory working memory\n",
            "Definicja: Brak definicji\n",
            "\n",
            "Wynik 3:\n",
            "Nazwa: autobiographical memory\n",
            "Definicja: Brak definicji\n"
          ]
        }
      ]
    },
    {
      "cell_type": "markdown",
      "source": [
        "Następnie Franek pobiera szczegółowe informacje o konkretnym koncepcie:"
      ],
      "metadata": {
        "id": "0_aUsU8S5Xjp"
      }
    },
    {
      "cell_type": "code",
      "source": [
        "def get_concept_details(concept_id):\n",
        "    return get_data_from_api(f\"v-alpha/concept?id={concept_id}\")\n",
        "\n",
        "\n",
        "working_memory_id = \"trm_4a3fd79d0b5a7\"\n",
        "working_memory = get_concept_details(working_memory_id)\n",
        "\n",
        "if working_memory:\n",
        "    print(\"\\nSzczegóły o pamięci roboczej:\")\n",
        "    # Access the concept details directly from the working_memory dictionary\n",
        "    print(f\"Nazwa: {working_memory['name']}\")\n",
        "    print(f\"Definicja: {working_memory.get('definition_text', 'Brak definicji')}\")\n",
        "    print(f\"Powiązane koncepty: {len(working_memory.get('relationships', []))}\")"
      ],
      "metadata": {
        "colab": {
          "base_uri": "https://localhost:8080/"
        },
        "id": "ZbNsLK9g5b5I",
        "outputId": "06a89b84-7da1-47ab-d305-b0a5c13bcb17"
      },
      "execution_count": 15,
      "outputs": [
        {
          "output_type": "stream",
          "name": "stdout",
          "text": [
            "\n",
            "Szczegóły o pamięci roboczej:\n",
            "Nazwa: working memory\n",
            "Definicja: active maintenance and flexible updating of goal/task relevant information (items, goals, strategies, etc.) in a form that resists interference but has limited capacity. These representations may involve flexible binding of representations, may be characterized by the absence of external support for the internally maintained representations, and are frequently temporary due to ongoing interference\r\n",
            "\n",
            "Powiązane koncepty: 24\n"
          ]
        }
      ]
    },
    {
      "cell_type": "markdown",
      "source": [
        "## Zadanie 2\n",
        "\n",
        "1. Wyszukaj koncepty związane z uwagą (attention)\n",
        "\n",
        "2. Pobierz szczegółowe dane o wybranym koncepcie\n",
        "\n",
        "3. Zmodyfikuj kod, aby zapisać wyniki wyszukiwania do pliku JSON"
      ],
      "metadata": {
        "id": "Vv9_33Ph6-Xf"
      }
    },
    {
      "cell_type": "code",
      "source": [],
      "metadata": {
        "id": "ITS5wwKLEsDx"
      },
      "execution_count": null,
      "outputs": []
    },
    {
      "cell_type": "markdown",
      "source": [
        "# ETL/ELT (Extract Transform Load / Extract Load Transform)"
      ],
      "metadata": {
        "id": "EjGPwO1E7KlI"
      }
    },
    {
      "cell_type": "markdown",
      "source": [
        "Franek przystępuje do przetwarzania pobranych danych:"
      ],
      "metadata": {
        "id": "cMaLAKE27hy1"
      }
    },
    {
      "cell_type": "code",
      "source": [
        "# Utwórzmy DataFrame dla konceptów\n",
        "concepts = get_data_from_api(\"concept\")\n",
        "concepts_df = pd.DataFrame(concepts)\n",
        "\n",
        "# Podstawowe informacje o danych\n",
        "print(\"Informacje o DataFrame z konceptami:\")\n",
        "print(concepts_df.info())\n",
        "\n",
        "# Sprawdzenie pierwszych rekordów\n",
        "print(\"\\nPierwsze 5 konceptów:\")\n",
        "print(concepts_df[['id', 'name', 'def_id']].head())\n",
        "\n",
        "# Sprawdzenie brakujących wartości\n",
        "print(\"\\nLiczba brakujących wartości w każdej kolumnie:\")\n",
        "print(concepts_df.isnull().sum())\n",
        "\n",
        "# Filtrowanie danych - koncepty zawierające słowo \"memory\"\n",
        "memory_concepts_df = concepts_df[concepts_df['name'].str.contains('memory', case=False, na=False)]\n",
        "print(f\"\\nZnaleziono {len(memory_concepts_df)} konceptów zawierających 'memory' w nazwie:\")\n",
        "print(memory_concepts_df[['id', 'name']].head())\n",
        "\n",
        "# Uzupełnianie brakujących definicji\n",
        "concepts_df['def_id'] = concepts_df['def_id'].fillna('Brak definicji')"
      ],
      "metadata": {
        "colab": {
          "base_uri": "https://localhost:8080/"
        },
        "id": "6Aj1orlJ7jsH",
        "outputId": "758411f1-4fa2-4492-b272-2d0d2aa5eb98"
      },
      "execution_count": 22,
      "outputs": [
        {
          "output_type": "stream",
          "name": "stdout",
          "text": [
            "Informacje o DataFrame z konceptami:\n",
            "<class 'pandas.core.frame.DataFrame'>\n",
            "RangeIndex: 915 entries, 0 to 914\n",
            "Data columns (total 12 columns):\n",
            " #   Column            Non-Null Count  Dtype \n",
            "---  ------            --------------  ----- \n",
            " 0   id_concept_class  812 non-null    object\n",
            " 1   creation_time     915 non-null    int64 \n",
            " 2   event_stamp       815 non-null    object\n",
            " 3   def_id_user       812 non-null    object\n",
            " 4   def_event_stamp   812 non-null    object\n",
            " 5   last_updated      915 non-null    int64 \n",
            " 6   def_id            812 non-null    object\n",
            " 7   name              915 non-null    object\n",
            " 8   alias             815 non-null    object\n",
            " 9   definition_text   915 non-null    object\n",
            " 10  id_user           815 non-null    object\n",
            " 11  id                915 non-null    object\n",
            "dtypes: int64(2), object(10)\n",
            "memory usage: 85.9+ KB\n",
            "None\n",
            "\n",
            "Pierwsze 5 konceptów:\n",
            "                  id                 name             def_id\n",
            "0  trm_4a3fd79d096be  abductive reasoning  def_4e42ecf5ef5a9\n",
            "1  trm_4a3fd79d096e3     abstract analogy  def_4f732feb3ba80\n",
            "2  trm_4a3fd79d096f0   abstract knowledge  def_4f732ffd07a8f\n",
            "3  trm_4a3fd79d096fc      acoustic coding  def_4e42efa44f56e\n",
            "4  trm_4a3fd79d09707    acoustic encoding  def_4f733015ca0b5\n",
            "\n",
            "Liczba brakujących wartości w każdej kolumnie:\n",
            "id_concept_class    103\n",
            "creation_time         0\n",
            "event_stamp         100\n",
            "def_id_user         103\n",
            "def_event_stamp     103\n",
            "last_updated          0\n",
            "def_id              103\n",
            "name                  0\n",
            "alias               100\n",
            "definition_text       0\n",
            "id_user             100\n",
            "id                    0\n",
            "dtype: int64\n",
            "\n",
            "Znaleziono 49 konceptów zawierających 'memory' w nazwie:\n",
            "                    id                     name\n",
            "58   trm_4a3fd79d09aa7          auditory memory\n",
            "66   trm_4a3fd79d09b04  auditory working memory\n",
            "67   trm_4a3fd79d09b10  autobiographical memory\n",
            "120  trm_4a3fd79d09e87           context memory\n",
            "147  trm_4a3fd79d0a04f       declarative memory\n"
          ]
        }
      ]
    },
    {
      "cell_type": "markdown",
      "source": [
        "## Zadanie 3\n",
        "1. Stwórz DataFrame z danymi o zadaniach (tasks)\n",
        "\n",
        "2. Sprawdź, ile zadań zawiera słowo \"attention\" w nazwie\n",
        "\n",
        "3. Zidentyfikuj i poradź sobie z brakującymi wartościami w kolumnie 'definition'"
      ],
      "metadata": {
        "id": "w1cbJ3Nk7iul"
      }
    },
    {
      "cell_type": "code",
      "source": [],
      "metadata": {
        "id": "tSy2x0veEtE4"
      },
      "execution_count": null,
      "outputs": []
    },
    {
      "cell_type": "markdown",
      "source": [
        "## Do przemyślenia\n",
        "Jakie są metody radzenia z brakującymi wartościami?"
      ],
      "metadata": {
        "id": "DB4fccy88oCg"
      }
    },
    {
      "cell_type": "markdown",
      "source": [
        "## Zaawansowany ETL\n",
        "Franek chce połączyć dane z różnych źródeł, aby uzyskać bardziej kompletny obraz:"
      ],
      "metadata": {
        "id": "8gYv4h7T8-ea"
      }
    },
    {
      "cell_type": "code",
      "source": [
        "# Pobieranie danych o zadaniach i tworzenie DataFrame\n",
        "tasks = get_data_from_api(\"task\")\n",
        "tasks_df = pd.DataFrame(tasks)\n",
        "\n",
        "# Pobieranie danych o zaburzeniach\n",
        "disorders = get_data_from_api(\"disorder\")\n",
        "disorders_df = pd.DataFrame(disorders)\n",
        "\n",
        "# Franek chce połączyć dane o zadaniach i konceptach\n",
        "# Załóżmy, że API zwraca powiązania między konceptami i zadaniami\n",
        "# (W rzeczywistości musiałby napisać dodatkowe zapytania do API)\n",
        "# Na potrzeby przykładu tworzymy sztuczne powiązania\n",
        "\n",
        "import numpy as np\n",
        "\n",
        "# Ustawienie ziarna dla powtarzalności wyników\n",
        "np.random.seed(42)\n",
        "\n",
        "# Tworzenie sztucznych powiązań między konceptami i zadaniami\n",
        "relations_data = []\n",
        "for _ in range(50):\n",
        "    task = tasks_df.sample(1).iloc[0]\n",
        "    concept = concepts_df.sample(1).iloc[0]\n",
        "    relations_data.append({\n",
        "        'task_id': task['id'],\n",
        "        'task_name': task['name'],\n",
        "        'concept_id': concept['id'],\n",
        "        'concept_name': concept['name']\n",
        "    })\n",
        "\n",
        "relations_df = pd.DataFrame(relations_data)\n",
        "print(\"Przykładowe powiązania między zadaniami i konceptami:\")\n",
        "print(relations_df.head())\n",
        "\n",
        "# Analiza powiązań - które koncepty są najczęściej powiązane z zadaniami\n",
        "concept_counts = relations_df['concept_name'].value_counts()\n",
        "print(\"\\nNajczęstsze koncepty w powiązaniach:\")\n",
        "print(concept_counts.head(10))\n",
        "\n",
        "# Wizualizacja najczęstszych konceptów\n",
        "plt.figure(figsize=(10, 6))\n",
        "concept_counts.head(10).plot(kind='bar')\n",
        "plt.title('Najczęściej występujące koncepty w zadaniach')\n",
        "plt.xlabel('Koncept')\n",
        "plt.ylabel('Liczba powiązań')\n",
        "plt.xticks(rotation=45, ha='right')\n",
        "plt.tight_layout()\n",
        "plt.show()"
      ],
      "metadata": {
        "colab": {
          "base_uri": "https://localhost:8080/",
          "height": 1000
        },
        "id": "kuPFOe9o80wq",
        "outputId": "dcb1d35d-8d42-4365-aff7-04cd52cf2d47"
      },
      "execution_count": 23,
      "outputs": [
        {
          "output_type": "stream",
          "name": "stdout",
          "text": [
            "Przykładowe powiązania między zadaniami i konceptami:\n",
            "             task_id                                          task_name  \\\n",
            "0  trm_4c8990b07a037                     music comprehension/production   \n",
            "1  trm_5887c029d46f4  Gustatory stimulation with liquid tastes or fl...   \n",
            "2  trm_4da88ae0f2952                  Rey Auditory Verbal Learning Task   \n",
            "3  trm_5873ce8e77d1d               spatial localizer fMRI task paradigm   \n",
            "4  trm_4fbd2d71adf87                        minimal feature match task    \n",
            "\n",
            "          concept_id                  concept_name  \n",
            "0  trm_4a3fd79d09919            attentional effort  \n",
            "1  trm_557b476527a27  auditory tone discrimination  \n",
            "2  trm_4a3fd79d09e58                     constancy  \n",
            "3  trm_4a3fd79d0b29c                      strategy  \n",
            "4  trm_4a3fd79d09930             attentional state  \n",
            "\n",
            "Najczęstsze koncepty w powiązaniach:\n",
            "concept_name\n",
            "conceptual skill                2\n",
            "paraphasia                      2\n",
            "constancy                       1\n",
            "attentional effort              1\n",
            "attentional state               1\n",
            "passive attention               1\n",
            "task switching                  1\n",
            "auditory tone discrimination    1\n",
            "animacy decision                1\n",
            "Interpersonal Conflict          1\n",
            "Name: count, dtype: int64\n"
          ]
        },
        {
          "output_type": "display_data",
          "data": {
            "text/plain": [
              "<Figure size 1000x600 with 1 Axes>"
            ],
            "image/png": "[encoded data removed]"
          },
          "metadata": {}
        }
      ]
    },
    {
      "cell_type": "markdown",
      "source": [
        "## Zadanie 4\n",
        "1. Stwórz powiązania między zaburzeniami (disorders) a konceptami\n",
        "\n",
        "2. Przeanalizuj, które koncepty są najczęściej powiązane z konkretnymi zaburzeniami\n",
        "\n",
        "3. Stwórz wizualizację pokazującą te powiązania\n",
        "\n",
        "4. Zapisz wyniki do pliku CSV"
      ],
      "metadata": {
        "id": "Nkrp2S6_9YFb"
      }
    },
    {
      "cell_type": "code",
      "source": [],
      "metadata": {
        "id": "crutfWriEvI3"
      },
      "execution_count": null,
      "outputs": []
    },
    {
      "cell_type": "markdown",
      "source": [
        "# Uwagi na koniec"
      ],
      "metadata": {
        "id": "x34Hz0efEyg0"
      }
    },
    {
      "cell_type": "markdown",
      "source": [
        "Chciałbym zwrócić Państwa uwagę na fakt, że przedstawione tematy stanowią baaaaaaaaaaaaaaaaaaaaaaaaaaaaaaaaaaaaaaaaaaaaaaaaaaaaaaaaaaaaaaaaaaaaaaaaaaaaaaaaaaaaaaaaaaaaaaaaaaaaaaaaaaaaaardzo uproszczoną wersję tematów. Niestety, będzie to motyw przewodni naszych zajęć.\n",
        "\n",
        "Proponowane rozwinięcie treści (czytać, Googlować/pytać ChatGPT o wszystko [WSZYSTKO] czego nie rozumiemy, próbować robić samemu albo przynajmniej modyfikować kod źródłowy):\n",
        "\n",
        "API:\n",
        "*   koniecznie doczytać o security keys i tokenach!\n",
        "* poczytać o Postman API\n",
        "* https://realpython.com/api-integration-in-python/\n",
        "*   https://medium.com/@mine.gazioglu40/download-any-dataset-from-kaggle-with-kaggle-api-and-python-9ab84165aea0\n",
        "\n",
        "ETL:\n",
        "* tutaj ciężko wskazać wartościowe źródło. Wszystko zdaje się jechać mocnymi ogólnikami\n",
        "* ta książka wygląda w porządku:\n",
        "Building ETL Pipelines with Python: Create and deploy enterprise-ready ETL pipelines by employing modern methods (zwłaszcza darmowy kod do niej tutaj: https://github.com/joseferbt/ETL_Pipelines_python/tree/main)\n",
        "* https://www.kaggle.com/code/nilaychauhan/etl-pipelines-tutorial-world-bank-datasets\n",
        "\n",
        "Dodatkowo w temacie pobierania danych warto się zainteresować scrappingiem stron internetowych (i jak robić to legalnie żeby nie wpakować się w kłopoty):\n",
        "https://www.youtube.com/playlist?list=PLUaB-1hjhk8G-xVXA5FxT2cLNzd87GInr\n"
      ],
      "metadata": {
        "id": "jsp0SPstE3vh"
      }
    },
    {
      "cell_type": "code",
      "source": [],
      "metadata": {
        "id": "B3u4vOhiGQdS"
      },
      "execution_count": null,
      "outputs": []
    }
  ]
}